{
 "cells": [
  {
   "cell_type": "markdown",
   "metadata": {},
   "source": [
    "### Introduction"
   ]
  },
  {
   "cell_type": "markdown",
   "metadata": {},
   "source": [
    "In this lab we will build out functions to help us plot visualizations in lessons going forward. "
   ]
  },
  {
   "cell_type": "markdown",
   "metadata": {},
   "source": [
    "### The Setup"
   ]
  },
  {
   "cell_type": "markdown",
   "metadata": {},
   "source": [
    "Let's start by providing a function called `plot` which plots our data."
   ]
  },
  {
   "cell_type": "code",
   "execution_count": 1,
   "metadata": {},
   "outputs": [
    {
     "name": "stderr",
     "output_type": "stream",
     "text": [
      "/opt/conda/lib/python3.6/importlib/_bootstrap.py:219: RuntimeWarning: numpy.dtype size changed, may indicate binary incompatibility. Expected 96, got 88\n",
      "  return f(*args, **kwds)\n",
      "/opt/conda/lib/python3.6/importlib/_bootstrap.py:219: RuntimeWarning: numpy.dtype size changed, may indicate binary incompatibility. Expected 96, got 88\n",
      "  return f(*args, **kwds)\n"
     ]
    },
    {
     "data": {
      "text/html": [
       "<script>requirejs.config({paths: { 'plotly': ['https://cdn.plot.ly/plotly-latest.min']},});if(!window.Plotly) {{require(['plotly'],function(plotly) {window.Plotly=plotly;});}}</script>"
      ],
      "text/vnd.plotly.v1+html": [
       "<script>requirejs.config({paths: { 'plotly': ['https://cdn.plot.ly/plotly-latest.min']},});if(!window.Plotly) {{require(['plotly'],function(plotly) {window.Plotly=plotly;});}}</script>"
      ]
     },
     "metadata": {},
     "output_type": "display_data"
    }
   ],
   "source": [
    "import plotly\n",
    "from plotly.offline import iplot, init_notebook_mode\n",
    "\n",
    "init_notebook_mode(connected=True)\n",
    "\n",
    "def plot(figure):\n",
    "    plotly.offline.iplot(figure)"
   ]
  },
  {
   "cell_type": "markdown",
   "metadata": {},
   "source": [
    "To see our plot on the screen, we provide our `plot` function a dictionary.  The dictionary has a key of `data` which points to a list of traces.  Let's see it!"
   ]
  },
  {
   "cell_type": "code",
   "execution_count": 2,
   "metadata": {},
   "outputs": [
    {
     "data": {
      "application/vnd.plotly.v1+json": {
       "data": [
        {
         "type": "scatter",
         "uid": "e40a2d36-cc4c-11e8-b014-0242ac110005",
         "x": [
          1,
          2,
          3
         ],
         "y": [
          2,
          3,
          4
         ]
        },
        {
         "type": "scatter",
         "uid": "e40a30a6-cc4c-11e8-b014-0242ac110005",
         "x": [
          2,
          3,
          4
         ],
         "y": [
          5,
          3,
          4
         ]
        }
       ],
       "layout": {
        "title": "Our sample plot"
       }
      },
      "text/html": [
       "<div id=\"b5361104-6bb0-430f-b789-5184b4c358f5\" style=\"height: 525px; width: 100%;\" class=\"plotly-graph-div\"></div><script type=\"text/javascript\">require([\"plotly\"], function(Plotly) { window.PLOTLYENV=window.PLOTLYENV || {};window.PLOTLYENV.BASE_URL=\"https://plot.ly\";Plotly.newPlot(\"b5361104-6bb0-430f-b789-5184b4c358f5\", [{\"x\": [1, 2, 3], \"y\": [2, 3, 4], \"type\": \"scatter\", \"uid\": \"e43173f0-cc4c-11e8-b014-0242ac110005\"}, {\"x\": [2, 3, 4], \"y\": [5, 3, 4], \"type\": \"scatter\", \"uid\": \"e43176de-cc4c-11e8-b014-0242ac110005\"}], {\"title\": \"Our sample plot\"}, {\"showLink\": true, \"linkText\": \"Export to plot.ly\"})});</script>"
      ],
      "text/vnd.plotly.v1+html": [
       "<div id=\"b5361104-6bb0-430f-b789-5184b4c358f5\" style=\"height: 525px; width: 100%;\" class=\"plotly-graph-div\"></div><script type=\"text/javascript\">require([\"plotly\"], function(Plotly) { window.PLOTLYENV=window.PLOTLYENV || {};window.PLOTLYENV.BASE_URL=\"https://plot.ly\";Plotly.newPlot(\"b5361104-6bb0-430f-b789-5184b4c358f5\", [{\"x\": [1, 2, 3], \"y\": [2, 3, 4], \"type\": \"scatter\", \"uid\": \"e43173f0-cc4c-11e8-b014-0242ac110005\"}, {\"x\": [2, 3, 4], \"y\": [5, 3, 4], \"type\": \"scatter\", \"uid\": \"e43176de-cc4c-11e8-b014-0242ac110005\"}], {\"title\": \"Our sample plot\"}, {\"showLink\": true, \"linkText\": \"Export to plot.ly\"})});</script>"
      ]
     },
     "metadata": {},
     "output_type": "display_data"
    }
   ],
   "source": [
    "sample_trace = {'x': [1, 2, 3], 'y': [2, 3, 4]}\n",
    "other_sample_trace = {'x': [2, 3, 4], 'y': [5, 3, 4]}\n",
    "sample_figure = {'data': [sample_trace, other_sample_trace], 'layout': {'title': 'Our sample plot'}}\n",
    "plot(sample_figure)"
   ]
  },
  {
   "cell_type": "markdown",
   "metadata": {},
   "source": [
    "Ok, now that our `plot` function works, we need an easy way to create the following:  \n",
    "\n",
    "* traces\n",
    "* figures\n",
    "* layouts\n",
    "\n",
    "\n",
    "Let's take these one by one.  We'll start with a `build_trace` function that easily creates traces."
   ]
  },
  {
   "cell_type": "markdown",
   "metadata": {},
   "source": [
    "### A function to create traces"
   ]
  },
  {
   "cell_type": "markdown",
   "metadata": {},
   "source": [
    "#### build_trace"
   ]
  },
  {
   "cell_type": "markdown",
   "metadata": {},
   "source": [
    "Write a `build_trace` function that can take in data that comes in the following format: "
   ]
  },
  {
   "cell_type": "code",
   "execution_count": 3,
   "metadata": {},
   "outputs": [],
   "source": [
    "data = [{'x': 1, 'y': 1}, {'x': 3, 'y': 2}, {'x': 2, 'y': 5}]"
   ]
  },
  {
   "cell_type": "markdown",
   "metadata": {},
   "source": [
    "And returns data like the commented out dictionary below: \n",
    "\n",
    "```python\n",
    "data = [{'x': 1, 'y': 1}, {'x': 3, 'y': 2}, {'x': 2, 'y': 5}]\n",
    "build_trace(data)\n",
    "# {'mode': 'markers', 'name': 'data', 'x': [1, 3, 2], 'y': [1, 2, 5]}\n",
    "```\n",
    "\n",
    "So `build_trace` that takes in a list of data points as arguments and returns a dictionary with a key of `x` that points to a list of x values, and a key of `y` that points to a list of y values.\n",
    "\n",
    ">**Note:** Look at the parameters provided for `build_trace`.  The arguments `mode = 'markers'` and `name = 'data'` may seem scary since we haven't seem them before.  No need to worry!  These are **default arguments**.  \n",
    "\n",
    ">If no argument for `mode` or `name` is provided when we call the `build_trace` function, Python will automatically set these parameters to the value provided, which, in this case would be 'markers' for the mode and 'data' for the name."
   ]
  },
  {
   "cell_type": "code",
   "execution_count": 5,
   "metadata": {},
   "outputs": [],
   "source": [
    "def build_trace(data, mode = 'markers', name = 'data'):\n",
    "    return {'mode': mode, 'name': name, 'data': data}"
   ]
  },
  {
   "cell_type": "markdown",
   "metadata": {},
   "source": [
    "So by default, if we just call `build_trace(data)` without specifying either a mode or a name, the function will automatically set these parameters to 'markers' and 'data' respectively."
   ]
  },
  {
   "cell_type": "code",
   "execution_count": 6,
   "metadata": {},
   "outputs": [
    {
     "data": {
      "text/plain": [
       "{'mode': 'markers',\n",
       " 'name': 'data',\n",
       " 'data': [{'x': 1, 'y': 1}, {'x': 3, 'y': 2}, {'x': 2, 'y': 5}]}"
      ]
     },
     "execution_count": 6,
     "metadata": {},
     "output_type": "execute_result"
    }
   ],
   "source": [
    "data = [{'x': 1, 'y': 1}, {'x': 3, 'y': 2}, {'x': 2, 'y': 5}]\n",
    "build_trace(data)\n",
    "# {'mode': 'markers', 'name': 'data', 'x': [1, 3, 2], 'y': [1, 2, 5]}"
   ]
  },
  {
   "cell_type": "markdown",
   "metadata": {},
   "source": [
    "If we want our `build_trace` function to take a different mode arguement, we add a second argument when we call the function which will overwrite the mode's default argument.   "
   ]
  },
  {
   "cell_type": "code",
   "execution_count": 7,
   "metadata": {},
   "outputs": [
    {
     "data": {
      "text/plain": [
       "{'mode': 'scatter',\n",
       " 'name': 'data',\n",
       " 'data': [{'x': 1, 'y': 1}, {'x': 3, 'y': 2}, {'x': 2, 'y': 5}]}"
      ]
     },
     "execution_count": 7,
     "metadata": {},
     "output_type": "execute_result"
    }
   ],
   "source": [
    "build_trace(data, 'scatter')\n",
    "# {'mode': 'scatter', 'name': 'data', 'x': [1, 3, 2], 'y': [1, 2, 5]}"
   ]
  },
  {
   "cell_type": "markdown",
   "metadata": {},
   "source": [
    "We could do the same thing with the name of the plot.  This is useful for when we have more than one trace in the same plot.\n",
    "\n",
    "> Order matters.  The value passed through as the `name` argument, should correspond to the value of the `name` key in our returned dictionary."
   ]
  },
  {
   "cell_type": "code",
   "execution_count": 8,
   "metadata": {},
   "outputs": [
    {
     "data": {
      "text/plain": [
       "{'mode': 'markers',\n",
       " 'name': 'sample plot',\n",
       " 'data': [{'x': 1, 'y': 1}, {'x': 3, 'y': 2}, {'x': 2, 'y': 5}]}"
      ]
     },
     "execution_count": 8,
     "metadata": {},
     "output_type": "execute_result"
    }
   ],
   "source": [
    "build_trace(data, 'markers', 'sample plot')\n",
    "# {'mode': 'markers', 'name': 'sample plot', 'x': [1, 3, 2], 'y': [1, 2, 5]}"
   ]
  },
  {
   "cell_type": "markdown",
   "metadata": {},
   "source": [
    "Ok, now we have built a function to easily generate a trace.  Let's see it in action!  Uncomment some of the code below and try it out. Experiment with having your trace display with 'markers' or 'lines'.  You can only see the name of the plot if more than one trace is present, so practice adding more than one trace, to the plot."
   ]
  },
  {
   "cell_type": "code",
   "execution_count": 19,
   "metadata": {},
   "outputs": [
    {
     "ename": "ValueError",
     "evalue": "Invalid property specified for object of type plotly.graph_objs.Scatter: 'data'\n\n    Valid properties:\n        cliponaxis\n            Determines whether or not markers and text nodes are\n            clipped about the subplot axes. To show markers and\n            text nodes above axis lines and tick labels, make sure\n            to set `xaxis.layer` and `yaxis.layer` to *below\n            traces*.\n        connectgaps\n            Determines whether or not gaps (i.e. {nan} or missing\n            values) in the provided data arrays are connected.\n        customdata\n            Assigns extra data each datum. This may be useful when\n            listening to hover, click and selection events. Note\n            that, \"scatter\" traces also appends customdata items in\n            the markers DOM elements\n        customdatasrc\n            Sets the source reference on plot.ly for  customdata .\n        dx\n            Sets the x coordinate step. See `x0` for more info.\n        dy\n            Sets the y coordinate step. See `y0` for more info.\n        error_x\n            plotly.graph_objs.scatter.ErrorX instance or dict with\n            compatible properties\n        error_y\n            plotly.graph_objs.scatter.ErrorY instance or dict with\n            compatible properties\n        fill\n            Sets the area to fill with a solid color. Defaults to\n            \"none\" unless this trace is stacked, then it gets\n            \"tonexty\" (\"tonextx\") if `orientation` is \"v\" (\"h\") Use\n            with `fillcolor` if not \"none\". \"tozerox\" and \"tozeroy\"\n            fill to x=0 and y=0 respectively. \"tonextx\" and\n            \"tonexty\" fill between the endpoints of this trace and\n            the endpoints of the trace before it, connecting those\n            endpoints with straight lines (to make a stacked area\n            graph); if there is no trace before it, they behave\n            like \"tozerox\" and \"tozeroy\". \"toself\" connects the\n            endpoints of the trace (or each segment of the trace if\n            it has gaps) into a closed shape. \"tonext\" fills the\n            space between two traces if one completely encloses the\n            other (eg consecutive contour lines), and behaves like\n            \"toself\" if there is no trace before it. \"tonext\"\n            should not be used if one trace does not enclose the\n            other. Traces in a `stackgroup` will only fill to (or\n            be filled to) other traces in the same group. With\n            multiple `stackgroup`s or some traces stacked and some\n            not, if fill-linked traces are not already consecutive,\n            the later ones will be pushed down in the drawing\n            order.\n        fillcolor\n            Sets the fill color. Defaults to a half-transparent\n            variant of the line color, marker color, or marker line\n            color, whichever is available.\n        groupnorm\n            Only relevant when `stackgroup` is used, and only the\n            first `groupnorm` found in the `stackgroup` will be\n            used - including if `visible` is \"legendonly\" but not\n            if it is `false`. Sets the normalization for the sum of\n            this `stackgroup`. With \"fraction\", the value of each\n            trace at each location is divided by the sum of all\n            trace values at that location. \"percent\" is the same\n            but multiplied by 100 to show percentages. If there are\n            multiple subplots, or multiple `stackgroup`s on one\n            subplot, each will be normalized within its own set.\n        hoverinfo\n            Determines which trace information appear on hover. If\n            `none` or `skip` are set, no information is displayed\n            upon hovering. But, if `none` is set, click and hover\n            events are still fired.\n        hoverinfosrc\n            Sets the source reference on plot.ly for  hoverinfo .\n        hoverlabel\n            plotly.graph_objs.scatter.Hoverlabel instance or dict\n            with compatible properties\n        hoveron\n            Do the hover effects highlight individual points\n            (markers or line points) or do they highlight filled\n            regions? If the fill is \"toself\" or \"tonext\" and there\n            are no markers or text, then the default is \"fills\",\n            otherwise it is \"points\".\n        hovertext\n            Sets hover text elements associated with each (x,y)\n            pair. If a single string, the same string appears over\n            all the data points. If an array of string, the items\n            are mapped in order to the this trace's (x,y)\n            coordinates. To be seen, trace `hoverinfo` must contain\n            a \"text\" flag.\n        hovertextsrc\n            Sets the source reference on plot.ly for  hovertext .\n        ids\n            Assigns id labels to each datum. These ids for object\n            constancy of data points during animation. Should be an\n            array of strings, not numbers or any other type.\n        idssrc\n            Sets the source reference on plot.ly for  ids .\n        legendgroup\n            Sets the legend group for this trace. Traces part of\n            the same legend group hide/show at the same time when\n            toggling legend items.\n        line\n            plotly.graph_objs.scatter.Line instance or dict with\n            compatible properties\n        marker\n            plotly.graph_objs.scatter.Marker instance or dict with\n            compatible properties\n        mode\n            Determines the drawing mode for this scatter trace. If\n            the provided `mode` includes \"text\" then the `text`\n            elements appear at the coordinates. Otherwise, the\n            `text` elements appear on hover. If there are less than\n            20 points and the trace is not stacked then the default\n            is \"lines+markers\". Otherwise, \"lines\".\n        name\n            Sets the trace name. The trace name appear as the\n            legend item and on hover.\n        opacity\n            Sets the opacity of the trace.\n        orientation\n            Only relevant when `stackgroup` is used, and only the\n            first `orientation` found in the `stackgroup` will be\n            used - including if `visible` is \"legendonly\" but not\n            if it is `false`. Sets the stacking direction. With \"v\"\n            (\"h\"), the y (x) values of subsequent traces are added.\n            Also affects the default value of `fill`.\n        r\n            r coordinates in scatter traces are deprecated!Please\n            switch to the \"scatterpolar\" trace type.Sets the radial\n            coordinatesfor legacy polar chart only.\n        rsrc\n            Sets the source reference on plot.ly for  r .\n        selected\n            plotly.graph_objs.scatter.Selected instance or dict\n            with compatible properties\n        selectedpoints\n            Array containing integer indices of selected points.\n            Has an effect only for traces that support selections.\n            Note that an empty array means an empty selection where\n            the `unselected` are turned on for all points, whereas,\n            any other non-array values means no selection all where\n            the `selected` and `unselected` styles have no effect.\n        showlegend\n            Determines whether or not an item corresponding to this\n            trace is shown in the legend.\n        stackgaps\n            Only relevant when `stackgroup` is used, and only the\n            first `stackgaps` found in the `stackgroup` will be\n            used - including if `visible` is \"legendonly\" but not\n            if it is `false`. Determines how we handle locations at\n            which other traces in this group have data but this one\n            does not. With *infer zero* we insert a zero at these\n            locations. With \"interpolate\" we linearly interpolate\n            between existing values, and extrapolate a constant\n            beyond the existing values.\n        stackgroup\n            Set several scatter traces (on the same subplot) to the\n            same stackgroup in order to add their y values (or\n            their x values if `orientation` is \"h\"). If blank or\n            omitted this trace will not be stacked. Stacking also\n            turns `fill` on by default, using \"tonexty\" (\"tonextx\")\n            if `orientation` is \"h\" (\"v\") and sets the default\n            `mode` to \"lines\" irrespective of point count. You can\n            only stack on a numeric (linear or log) axis. Traces in\n            a `stackgroup` will only fill to (or be filled to)\n            other traces in the same group. With multiple\n            `stackgroup`s or some traces stacked and some not, if\n            fill-linked traces are not already consecutive, the\n            later ones will be pushed down in the drawing order.\n        stream\n            plotly.graph_objs.scatter.Stream instance or dict with\n            compatible properties\n        t\n            t coordinates in scatter traces are deprecated!Please\n            switch to the \"scatterpolar\" trace type.Sets the\n            angular coordinatesfor legacy polar chart only.\n        text\n            Sets text elements associated with each (x,y) pair. If\n            a single string, the same string appears over all the\n            data points. If an array of string, the items are\n            mapped in order to the this trace's (x,y) coordinates.\n            If trace `hoverinfo` contains a \"text\" flag and\n            \"hovertext\" is not set, these elements will be seen in\n            the hover labels.\n        textfont\n            Sets the text font.\n        textposition\n            Sets the positions of the `text` elements with respects\n            to the (x,y) coordinates.\n        textpositionsrc\n            Sets the source reference on plot.ly for  textposition\n            .\n        textsrc\n            Sets the source reference on plot.ly for  text .\n        tsrc\n            Sets the source reference on plot.ly for  t .\n        uid\n\n        unselected\n            plotly.graph_objs.scatter.Unselected instance or dict\n            with compatible properties\n        visible\n            Determines whether or not this trace is visible. If\n            \"legendonly\", the trace is not drawn, but can appear as\n            a legend item (provided that the legend itself is\n            visible).\n        x\n            Sets the x coordinates.\n        x0\n            Alternate to `x`. Builds a linear space of x\n            coordinates. Use with `dx` where `x0` is the starting\n            coordinate and `dx` the step.\n        xaxis\n            Sets a reference between this trace's x coordinates and\n            a 2D cartesian x axis. If \"x\" (the default value), the\n            x coordinates refer to `layout.xaxis`. If \"x2\", the x\n            coordinates refer to `layout.xaxis2`, and so on.\n        xcalendar\n            Sets the calendar system to use with `x` date data.\n        xsrc\n            Sets the source reference on plot.ly for  x .\n        y\n            Sets the y coordinates.\n        y0\n            Alternate to `y`. Builds a linear space of y\n            coordinates. Use with `dy` where `y0` is the starting\n            coordinate and `dy` the step.\n        yaxis\n            Sets a reference between this trace's y coordinates and\n            a 2D cartesian y axis. If \"y\" (the default value), the\n            y coordinates refer to `layout.yaxis`. If \"y2\", the y\n            coordinates refer to `layout.yaxis2`, and so on.\n        ycalendar\n            Sets the calendar system to use with `y` date data.\n        ysrc\n            Sets the source reference on plot.ly for  y .\n        ",
     "output_type": "error",
     "traceback": [
      "\u001b[0;31m\u001b[0m",
      "\u001b[0;31mValueError\u001b[0mTraceback (most recent call last)",
      "\u001b[0;32m<ipython-input-19-7b17f2fdbed4>\u001b[0m in \u001b[0;36m<module>\u001b[0;34m\u001b[0m\n\u001b[1;32m      3\u001b[0m \u001b[0;31m#trace0 = build_trace(data, 'markers')\u001b[0m\u001b[0;34m\u001b[0m\u001b[0;34m\u001b[0m\u001b[0m\n\u001b[1;32m      4\u001b[0m \u001b[0mtrace1\u001b[0m \u001b[0;34m=\u001b[0m \u001b[0mbuild_trace\u001b[0m\u001b[0;34m(\u001b[0m\u001b[0mdata\u001b[0m\u001b[0;34m,\u001b[0m \u001b[0;34m'lines'\u001b[0m\u001b[0;34m,\u001b[0m \u001b[0;34m'my_trace'\u001b[0m\u001b[0;34m)\u001b[0m\u001b[0;34m\u001b[0m\u001b[0m\n\u001b[0;32m----> 5\u001b[0;31m \u001b[0mplot\u001b[0m\u001b[0;34m(\u001b[0m\u001b[0;34m{\u001b[0m\u001b[0;34m'data'\u001b[0m\u001b[0;34m:\u001b[0m\u001b[0;34m[\u001b[0m\u001b[0mtrace0\u001b[0m\u001b[0;34m,\u001b[0m \u001b[0mtrace1\u001b[0m\u001b[0;34m]\u001b[0m\u001b[0;34m}\u001b[0m\u001b[0;34m)\u001b[0m\u001b[0;34m\u001b[0m\u001b[0m\n\u001b[0m\u001b[1;32m      6\u001b[0m \u001b[0mtrace1\u001b[0m\u001b[0;34m\u001b[0m\u001b[0m\n",
      "\u001b[0;32m<ipython-input-1-95463666e350>\u001b[0m in \u001b[0;36mplot\u001b[0;34m(figure)\u001b[0m\n\u001b[1;32m      5\u001b[0m \u001b[0;34m\u001b[0m\u001b[0m\n\u001b[1;32m      6\u001b[0m \u001b[0;32mdef\u001b[0m \u001b[0mplot\u001b[0m\u001b[0;34m(\u001b[0m\u001b[0mfigure\u001b[0m\u001b[0;34m)\u001b[0m\u001b[0;34m:\u001b[0m\u001b[0;34m\u001b[0m\u001b[0m\n\u001b[0;32m----> 7\u001b[0;31m     \u001b[0mplotly\u001b[0m\u001b[0;34m.\u001b[0m\u001b[0moffline\u001b[0m\u001b[0;34m.\u001b[0m\u001b[0miplot\u001b[0m\u001b[0;34m(\u001b[0m\u001b[0mfigure\u001b[0m\u001b[0;34m)\u001b[0m\u001b[0;34m\u001b[0m\u001b[0m\n\u001b[0m",
      "\u001b[0;32m/opt/conda/lib/python3.6/site-packages/plotly/offline/offline.py\u001b[0m in \u001b[0;36miplot\u001b[0;34m(figure_or_data, show_link, link_text, validate, image, filename, image_width, image_height, config)\u001b[0m\n\u001b[1;32m    337\u001b[0m     \u001b[0mconfig\u001b[0m\u001b[0;34m.\u001b[0m\u001b[0msetdefault\u001b[0m\u001b[0;34m(\u001b[0m\u001b[0;34m'linkText'\u001b[0m\u001b[0;34m,\u001b[0m \u001b[0mlink_text\u001b[0m\u001b[0;34m)\u001b[0m\u001b[0;34m\u001b[0m\u001b[0m\n\u001b[1;32m    338\u001b[0m \u001b[0;34m\u001b[0m\u001b[0m\n\u001b[0;32m--> 339\u001b[0;31m     \u001b[0mfigure\u001b[0m \u001b[0;34m=\u001b[0m \u001b[0mtools\u001b[0m\u001b[0;34m.\u001b[0m\u001b[0mreturn_figure_from_figure_or_data\u001b[0m\u001b[0;34m(\u001b[0m\u001b[0mfigure_or_data\u001b[0m\u001b[0;34m,\u001b[0m \u001b[0mvalidate\u001b[0m\u001b[0;34m)\u001b[0m\u001b[0;34m\u001b[0m\u001b[0m\n\u001b[0m\u001b[1;32m    340\u001b[0m \u001b[0;34m\u001b[0m\u001b[0m\n\u001b[1;32m    341\u001b[0m     \u001b[0;31m# Though it can add quite a bit to the display-bundle size, we include\u001b[0m\u001b[0;34m\u001b[0m\u001b[0;34m\u001b[0m\u001b[0m\n",
      "\u001b[0;32m/opt/conda/lib/python3.6/site-packages/plotly/tools.py\u001b[0m in \u001b[0;36mreturn_figure_from_figure_or_data\u001b[0;34m(figure_or_data, validate_figure)\u001b[0m\n\u001b[1;32m   1477\u001b[0m \u001b[0;34m\u001b[0m\u001b[0m\n\u001b[1;32m   1478\u001b[0m         \u001b[0;32mtry\u001b[0m\u001b[0;34m:\u001b[0m\u001b[0;34m\u001b[0m\u001b[0m\n\u001b[0;32m-> 1479\u001b[0;31m             \u001b[0mfigure\u001b[0m \u001b[0;34m=\u001b[0m \u001b[0mFigure\u001b[0m\u001b[0;34m(\u001b[0m\u001b[0;34m**\u001b[0m\u001b[0mfigure\u001b[0m\u001b[0;34m)\u001b[0m\u001b[0;34m.\u001b[0m\u001b[0mto_dict\u001b[0m\u001b[0;34m(\u001b[0m\u001b[0;34m)\u001b[0m\u001b[0;34m\u001b[0m\u001b[0m\n\u001b[0m\u001b[1;32m   1480\u001b[0m         \u001b[0;32mexcept\u001b[0m \u001b[0mexceptions\u001b[0m\u001b[0;34m.\u001b[0m\u001b[0mPlotlyError\u001b[0m \u001b[0;32mas\u001b[0m \u001b[0merr\u001b[0m\u001b[0;34m:\u001b[0m\u001b[0;34m\u001b[0m\u001b[0m\n\u001b[1;32m   1481\u001b[0m             raise exceptions.PlotlyError(\"Invalid 'figure_or_data' argument. \"\n",
      "\u001b[0;32m/opt/conda/lib/python3.6/site-packages/plotly/graph_objs/_figure.py\u001b[0m in \u001b[0;36m__init__\u001b[0;34m(self, data, layout, frames, skip_invalid)\u001b[0m\n\u001b[1;32m    378\u001b[0m             \u001b[0;32mis\u001b[0m \u001b[0minvalid\u001b[0m \u001b[0mAND\u001b[0m \u001b[0mskip_invalid\u001b[0m \u001b[0;32mis\u001b[0m \u001b[0;32mFalse\u001b[0m\u001b[0;34m\u001b[0m\u001b[0m\n\u001b[1;32m    379\u001b[0m         \"\"\"\n\u001b[0;32m--> 380\u001b[0;31m         \u001b[0msuper\u001b[0m\u001b[0;34m(\u001b[0m\u001b[0mFigure\u001b[0m\u001b[0;34m,\u001b[0m \u001b[0mself\u001b[0m\u001b[0;34m)\u001b[0m\u001b[0;34m.\u001b[0m\u001b[0m__init__\u001b[0m\u001b[0;34m(\u001b[0m\u001b[0mdata\u001b[0m\u001b[0;34m,\u001b[0m \u001b[0mlayout\u001b[0m\u001b[0;34m,\u001b[0m \u001b[0mframes\u001b[0m\u001b[0;34m,\u001b[0m \u001b[0mskip_invalid\u001b[0m\u001b[0;34m)\u001b[0m\u001b[0;34m\u001b[0m\u001b[0m\n\u001b[0m\u001b[1;32m    381\u001b[0m \u001b[0;34m\u001b[0m\u001b[0m\n\u001b[1;32m    382\u001b[0m     def add_area(\n",
      "\u001b[0;32m/opt/conda/lib/python3.6/site-packages/plotly/basedatatypes.py\u001b[0m in \u001b[0;36m__init__\u001b[0;34m(self, data, layout_plotly, frames, skip_invalid)\u001b[0m\n\u001b[1;32m    137\u001b[0m         \u001b[0;31m# ### Import traces ###\u001b[0m\u001b[0;34m\u001b[0m\u001b[0;34m\u001b[0m\u001b[0m\n\u001b[1;32m    138\u001b[0m         data = self._data_validator.validate_coerce(data,\n\u001b[0;32m--> 139\u001b[0;31m                                                     skip_invalid=skip_invalid)\n\u001b[0m\u001b[1;32m    140\u001b[0m \u001b[0;34m\u001b[0m\u001b[0m\n\u001b[1;32m    141\u001b[0m         \u001b[0;31m# ### Save tuple of trace objects ###\u001b[0m\u001b[0;34m\u001b[0m\u001b[0;34m\u001b[0m\u001b[0m\n",
      "\u001b[0;32m/opt/conda/lib/python3.6/site-packages/_plotly_utils/basevalidators.py\u001b[0m in \u001b[0;36mvalidate_coerce\u001b[0;34m(self, v, skip_invalid)\u001b[0m\n\u001b[1;32m   2096\u001b[0m                     \u001b[0;32melse\u001b[0m\u001b[0;34m:\u001b[0m\u001b[0;34m\u001b[0m\u001b[0m\n\u001b[1;32m   2097\u001b[0m                         trace = self.class_map[trace_type](\n\u001b[0;32m-> 2098\u001b[0;31m                             skip_invalid=skip_invalid, **v_copy)\n\u001b[0m\u001b[1;32m   2099\u001b[0m                         \u001b[0mres\u001b[0m\u001b[0;34m.\u001b[0m\u001b[0mappend\u001b[0m\u001b[0;34m(\u001b[0m\u001b[0mtrace\u001b[0m\u001b[0;34m)\u001b[0m\u001b[0;34m\u001b[0m\u001b[0m\n\u001b[1;32m   2100\u001b[0m                 \u001b[0;32melse\u001b[0m\u001b[0;34m:\u001b[0m\u001b[0;34m\u001b[0m\u001b[0m\n",
      "\u001b[0;32m/opt/conda/lib/python3.6/site-packages/plotly/graph_objs/_scatter.py\u001b[0m in \u001b[0;36m__init__\u001b[0;34m(self, arg, cliponaxis, connectgaps, customdata, customdatasrc, dx, dy, error_x, error_y, fill, fillcolor, groupnorm, hoverinfo, hoverinfosrc, hoverlabel, hoveron, hovertext, hovertextsrc, ids, idssrc, legendgroup, line, marker, mode, name, opacity, orientation, r, rsrc, selected, selectedpoints, showlegend, stackgaps, stackgroup, stream, t, text, textfont, textposition, textpositionsrc, textsrc, tsrc, uid, unselected, visible, x, x0, xaxis, xcalendar, xsrc, y, y0, yaxis, ycalendar, ysrc, **kwargs)\u001b[0m\n\u001b[1;32m   2400\u001b[0m         \u001b[0;31m# Process unknown kwargs\u001b[0m\u001b[0;34m\u001b[0m\u001b[0;34m\u001b[0m\u001b[0m\n\u001b[1;32m   2401\u001b[0m         \u001b[0;31m# ----------------------\u001b[0m\u001b[0;34m\u001b[0m\u001b[0;34m\u001b[0m\u001b[0m\n\u001b[0;32m-> 2402\u001b[0;31m         \u001b[0mself\u001b[0m\u001b[0;34m.\u001b[0m\u001b[0m_process_kwargs\u001b[0m\u001b[0;34m(\u001b[0m\u001b[0;34m**\u001b[0m\u001b[0mdict\u001b[0m\u001b[0;34m(\u001b[0m\u001b[0marg\u001b[0m\u001b[0;34m,\u001b[0m \u001b[0;34m**\u001b[0m\u001b[0mkwargs\u001b[0m\u001b[0;34m)\u001b[0m\u001b[0;34m)\u001b[0m\u001b[0;34m\u001b[0m\u001b[0m\n\u001b[0m\u001b[1;32m   2403\u001b[0m \u001b[0;34m\u001b[0m\u001b[0m\n\u001b[1;32m   2404\u001b[0m         \u001b[0;31m# Reset skip_invalid\u001b[0m\u001b[0;34m\u001b[0m\u001b[0;34m\u001b[0m\u001b[0m\n",
      "\u001b[0;32m/opt/conda/lib/python3.6/site-packages/plotly/basedatatypes.py\u001b[0m in \u001b[0;36m_process_kwargs\u001b[0;34m(self, **kwargs)\u001b[0m\n\u001b[1;32m   2343\u001b[0m         \"\"\"\n\u001b[1;32m   2344\u001b[0m         \u001b[0;32mif\u001b[0m \u001b[0;32mnot\u001b[0m \u001b[0mself\u001b[0m\u001b[0;34m.\u001b[0m\u001b[0m_skip_invalid\u001b[0m\u001b[0;34m:\u001b[0m\u001b[0;34m\u001b[0m\u001b[0m\n\u001b[0;32m-> 2345\u001b[0;31m             \u001b[0mself\u001b[0m\u001b[0;34m.\u001b[0m\u001b[0m_raise_on_invalid_property_error\u001b[0m\u001b[0;34m(\u001b[0m\u001b[0;34m*\u001b[0m\u001b[0mkwargs\u001b[0m\u001b[0;34m.\u001b[0m\u001b[0mkeys\u001b[0m\u001b[0;34m(\u001b[0m\u001b[0;34m)\u001b[0m\u001b[0;34m)\u001b[0m\u001b[0;34m\u001b[0m\u001b[0m\n\u001b[0m\u001b[1;32m   2346\u001b[0m \u001b[0;34m\u001b[0m\u001b[0m\n\u001b[1;32m   2347\u001b[0m     \u001b[0;34m@\u001b[0m\u001b[0mproperty\u001b[0m\u001b[0;34m\u001b[0m\u001b[0m\n",
      "\u001b[0;32m/opt/conda/lib/python3.6/site-packages/plotly/basedatatypes.py\u001b[0m in \u001b[0;36m_raise_on_invalid_property_error\u001b[0;34m(self, *args)\u001b[0m\n\u001b[1;32m   2937\u001b[0m                                  \u001b[0mfull_obj_name\u001b[0m\u001b[0;34m=\u001b[0m\u001b[0mfull_obj_name\u001b[0m\u001b[0;34m,\u001b[0m\u001b[0;34m\u001b[0m\u001b[0m\n\u001b[1;32m   2938\u001b[0m                                  \u001b[0minvalid_str\u001b[0m\u001b[0;34m=\u001b[0m\u001b[0minvalid_str\u001b[0m\u001b[0;34m,\u001b[0m\u001b[0;34m\u001b[0m\u001b[0m\n\u001b[0;32m-> 2939\u001b[0;31m                                  prop_descriptions=self._prop_descriptions))\n\u001b[0m\u001b[1;32m   2940\u001b[0m \u001b[0;34m\u001b[0m\u001b[0m\n\u001b[1;32m   2941\u001b[0m     \u001b[0;32mdef\u001b[0m \u001b[0mupdate\u001b[0m\u001b[0;34m(\u001b[0m\u001b[0mself\u001b[0m\u001b[0;34m,\u001b[0m \u001b[0mdict1\u001b[0m\u001b[0;34m=\u001b[0m\u001b[0;32mNone\u001b[0m\u001b[0;34m,\u001b[0m \u001b[0;34m**\u001b[0m\u001b[0mkwargs\u001b[0m\u001b[0;34m)\u001b[0m\u001b[0;34m:\u001b[0m\u001b[0;34m\u001b[0m\u001b[0m\n",
      "\u001b[0;31mValueError\u001b[0m: Invalid property specified for object of type plotly.graph_objs.Scatter: 'data'\n\n    Valid properties:\n        cliponaxis\n            Determines whether or not markers and text nodes are\n            clipped about the subplot axes. To show markers and\n            text nodes above axis lines and tick labels, make sure\n            to set `xaxis.layer` and `yaxis.layer` to *below\n            traces*.\n        connectgaps\n            Determines whether or not gaps (i.e. {nan} or missing\n            values) in the provided data arrays are connected.\n        customdata\n            Assigns extra data each datum. This may be useful when\n            listening to hover, click and selection events. Note\n            that, \"scatter\" traces also appends customdata items in\n            the markers DOM elements\n        customdatasrc\n            Sets the source reference on plot.ly for  customdata .\n        dx\n            Sets the x coordinate step. See `x0` for more info.\n        dy\n            Sets the y coordinate step. See `y0` for more info.\n        error_x\n            plotly.graph_objs.scatter.ErrorX instance or dict with\n            compatible properties\n        error_y\n            plotly.graph_objs.scatter.ErrorY instance or dict with\n            compatible properties\n        fill\n            Sets the area to fill with a solid color. Defaults to\n            \"none\" unless this trace is stacked, then it gets\n            \"tonexty\" (\"tonextx\") if `orientation` is \"v\" (\"h\") Use\n            with `fillcolor` if not \"none\". \"tozerox\" and \"tozeroy\"\n            fill to x=0 and y=0 respectively. \"tonextx\" and\n            \"tonexty\" fill between the endpoints of this trace and\n            the endpoints of the trace before it, connecting those\n            endpoints with straight lines (to make a stacked area\n            graph); if there is no trace before it, they behave\n            like \"tozerox\" and \"tozeroy\". \"toself\" connects the\n            endpoints of the trace (or each segment of the trace if\n            it has gaps) into a closed shape. \"tonext\" fills the\n            space between two traces if one completely encloses the\n            other (eg consecutive contour lines), and behaves like\n            \"toself\" if there is no trace before it. \"tonext\"\n            should not be used if one trace does not enclose the\n            other. Traces in a `stackgroup` will only fill to (or\n            be filled to) other traces in the same group. With\n            multiple `stackgroup`s or some traces stacked and some\n            not, if fill-linked traces are not already consecutive,\n            the later ones will be pushed down in the drawing\n            order.\n        fillcolor\n            Sets the fill color. Defaults to a half-transparent\n            variant of the line color, marker color, or marker line\n            color, whichever is available.\n        groupnorm\n            Only relevant when `stackgroup` is used, and only the\n            first `groupnorm` found in the `stackgroup` will be\n            used - including if `visible` is \"legendonly\" but not\n            if it is `false`. Sets the normalization for the sum of\n            this `stackgroup`. With \"fraction\", the value of each\n            trace at each location is divided by the sum of all\n            trace values at that location. \"percent\" is the same\n            but multiplied by 100 to show percentages. If there are\n            multiple subplots, or multiple `stackgroup`s on one\n            subplot, each will be normalized within its own set.\n        hoverinfo\n            Determines which trace information appear on hover. If\n            `none` or `skip` are set, no information is displayed\n            upon hovering. But, if `none` is set, click and hover\n            events are still fired.\n        hoverinfosrc\n            Sets the source reference on plot.ly for  hoverinfo .\n        hoverlabel\n            plotly.graph_objs.scatter.Hoverlabel instance or dict\n            with compatible properties\n        hoveron\n            Do the hover effects highlight individual points\n            (markers or line points) or do they highlight filled\n            regions? If the fill is \"toself\" or \"tonext\" and there\n            are no markers or text, then the default is \"fills\",\n            otherwise it is \"points\".\n        hovertext\n            Sets hover text elements associated with each (x,y)\n            pair. If a single string, the same string appears over\n            all the data points. If an array of string, the items\n            are mapped in order to the this trace's (x,y)\n            coordinates. To be seen, trace `hoverinfo` must contain\n            a \"text\" flag.\n        hovertextsrc\n            Sets the source reference on plot.ly for  hovertext .\n        ids\n            Assigns id labels to each datum. These ids for object\n            constancy of data points during animation. Should be an\n            array of strings, not numbers or any other type.\n        idssrc\n            Sets the source reference on plot.ly for  ids .\n        legendgroup\n            Sets the legend group for this trace. Traces part of\n            the same legend group hide/show at the same time when\n            toggling legend items.\n        line\n            plotly.graph_objs.scatter.Line instance or dict with\n            compatible properties\n        marker\n            plotly.graph_objs.scatter.Marker instance or dict with\n            compatible properties\n        mode\n            Determines the drawing mode for this scatter trace. If\n            the provided `mode` includes \"text\" then the `text`\n            elements appear at the coordinates. Otherwise, the\n            `text` elements appear on hover. If there are less than\n            20 points and the trace is not stacked then the default\n            is \"lines+markers\". Otherwise, \"lines\".\n        name\n            Sets the trace name. The trace name appear as the\n            legend item and on hover.\n        opacity\n            Sets the opacity of the trace.\n        orientation\n            Only relevant when `stackgroup` is used, and only the\n            first `orientation` found in the `stackgroup` will be\n            used - including if `visible` is \"legendonly\" but not\n            if it is `false`. Sets the stacking direction. With \"v\"\n            (\"h\"), the y (x) values of subsequent traces are added.\n            Also affects the default value of `fill`.\n        r\n            r coordinates in scatter traces are deprecated!Please\n            switch to the \"scatterpolar\" trace type.Sets the radial\n            coordinatesfor legacy polar chart only.\n        rsrc\n            Sets the source reference on plot.ly for  r .\n        selected\n            plotly.graph_objs.scatter.Selected instance or dict\n            with compatible properties\n        selectedpoints\n            Array containing integer indices of selected points.\n            Has an effect only for traces that support selections.\n            Note that an empty array means an empty selection where\n            the `unselected` are turned on for all points, whereas,\n            any other non-array values means no selection all where\n            the `selected` and `unselected` styles have no effect.\n        showlegend\n            Determines whether or not an item corresponding to this\n            trace is shown in the legend.\n        stackgaps\n            Only relevant when `stackgroup` is used, and only the\n            first `stackgaps` found in the `stackgroup` will be\n            used - including if `visible` is \"legendonly\" but not\n            if it is `false`. Determines how we handle locations at\n            which other traces in this group have data but this one\n            does not. With *infer zero* we insert a zero at these\n            locations. With \"interpolate\" we linearly interpolate\n            between existing values, and extrapolate a constant\n            beyond the existing values.\n        stackgroup\n            Set several scatter traces (on the same subplot) to the\n            same stackgroup in order to add their y values (or\n            their x values if `orientation` is \"h\"). If blank or\n            omitted this trace will not be stacked. Stacking also\n            turns `fill` on by default, using \"tonexty\" (\"tonextx\")\n            if `orientation` is \"h\" (\"v\") and sets the default\n            `mode` to \"lines\" irrespective of point count. You can\n            only stack on a numeric (linear or log) axis. Traces in\n            a `stackgroup` will only fill to (or be filled to)\n            other traces in the same group. With multiple\n            `stackgroup`s or some traces stacked and some not, if\n            fill-linked traces are not already consecutive, the\n            later ones will be pushed down in the drawing order.\n        stream\n            plotly.graph_objs.scatter.Stream instance or dict with\n            compatible properties\n        t\n            t coordinates in scatter traces are deprecated!Please\n            switch to the \"scatterpolar\" trace type.Sets the\n            angular coordinatesfor legacy polar chart only.\n        text\n            Sets text elements associated with each (x,y) pair. If\n            a single string, the same string appears over all the\n            data points. If an array of string, the items are\n            mapped in order to the this trace's (x,y) coordinates.\n            If trace `hoverinfo` contains a \"text\" flag and\n            \"hovertext\" is not set, these elements will be seen in\n            the hover labels.\n        textfont\n            Sets the text font.\n        textposition\n            Sets the positions of the `text` elements with respects\n            to the (x,y) coordinates.\n        textpositionsrc\n            Sets the source reference on plot.ly for  textposition\n            .\n        textsrc\n            Sets the source reference on plot.ly for  text .\n        tsrc\n            Sets the source reference on plot.ly for  t .\n        uid\n\n        unselected\n            plotly.graph_objs.scatter.Unselected instance or dict\n            with compatible properties\n        visible\n            Determines whether or not this trace is visible. If\n            \"legendonly\", the trace is not drawn, but can appear as\n            a legend item (provided that the legend itself is\n            visible).\n        x\n            Sets the x coordinates.\n        x0\n            Alternate to `x`. Builds a linear space of x\n            coordinates. Use with `dx` where `x0` is the starting\n            coordinate and `dx` the step.\n        xaxis\n            Sets a reference between this trace's x coordinates and\n            a 2D cartesian x axis. If \"x\" (the default value), the\n            x coordinates refer to `layout.xaxis`. If \"x2\", the x\n            coordinates refer to `layout.xaxis2`, and so on.\n        xcalendar\n            Sets the calendar system to use with `x` date data.\n        xsrc\n            Sets the source reference on plot.ly for  x .\n        y\n            Sets the y coordinates.\n        y0\n            Alternate to `y`. Builds a linear space of y\n            coordinates. Use with `dy` where `y0` is the starting\n            coordinate and `dy` the step.\n        yaxis\n            Sets a reference between this trace's y coordinates and\n            a 2D cartesian y axis. If \"y\" (the default value), the\n            y coordinates refer to `layout.yaxis`. If \"y2\", the y\n            coordinates refer to `layout.yaxis2`, and so on.\n        ycalendar\n            Sets the calendar system to use with `y` date data.\n        ysrc\n            Sets the source reference on plot.ly for  y .\n        "
     ]
    }
   ],
   "source": [
    "trace0 = build_trace(data)\n",
    "\n",
    "#trace0 = build_trace(data, 'markers')\n",
    "trace1 = build_trace(data, 'lines', 'my_trace')\n",
    "plot({'data':[trace0, trace1]})\n"
   ]
  },
  {
   "cell_type": "markdown",
   "metadata": {},
   "source": [
    "#### trace_values"
   ]
  },
  {
   "cell_type": "markdown",
   "metadata": {},
   "source": [
    "Now let's write another function to create a trace called `trace_values`.  It works just like our `build_trace` function, except that it takes in a list of x_values and a list of y_values and returns our trace dictionary.  We will use default argument again here in the same manner as before."
   ]
  },
  {
   "cell_type": "code",
   "execution_count": null,
   "metadata": {},
   "outputs": [],
   "source": [
    "def trace_values(x_values, y_values, mode = 'markers', name=\"data\"):\n",
    "     pass"
   ]
  },
  {
   "cell_type": "code",
   "execution_count": null,
   "metadata": {},
   "outputs": [],
   "source": [
    "trace_values([1, 2, 3], [2, 4, 5])\n",
    "\n",
    "# {'mode': 'markers', 'name': 'data', 'x': [1, 2, 3], 'y': [2, 4, 5]}"
   ]
  },
  {
   "cell_type": "markdown",
   "metadata": {},
   "source": [
    "Now let's try to build a line trace with our newly defined `trace_values` function.  We will set `mode` to 'line' and the `name` of our trace to 'line trace'."
   ]
  },
  {
   "cell_type": "code",
   "execution_count": null,
   "metadata": {},
   "outputs": [],
   "source": [
    "trace_values([1, 2, 3], [2, 4, 5], 'line', 'line trace')\n",
    "# {'mode': 'line', 'name': 'line trace', 'x': [1, 2, 3], 'y': [2, 4, 5]}"
   ]
  },
  {
   "cell_type": "markdown",
   "metadata": {},
   "source": [
    "From there, we can use our `trace_values` function to plot our chart."
   ]
  },
  {
   "cell_type": "markdown",
   "metadata": {},
   "source": [
    "> Uncomment and run the code below"
   ]
  },
  {
   "cell_type": "code",
   "execution_count": null,
   "metadata": {},
   "outputs": [],
   "source": [
    "# trace2 = trace_values([1, 2, 3], [2, 4, 5], 'line', 'line trace')\n",
    "# plot({'data': [trace2]})"
   ]
  },
  {
   "cell_type": "markdown",
   "metadata": {},
   "source": [
    "### Creating layouts"
   ]
  },
  {
   "cell_type": "markdown",
   "metadata": {},
   "source": [
    "Ok, now that we have built some functions to create traces, let's write a function to create a layout.  Remember that our layout also can be passed to our plot function."
   ]
  },
  {
   "cell_type": "markdown",
   "metadata": {},
   "source": [
    "> Uncomment and run the code below."
   ]
  },
  {
   "cell_type": "code",
   "execution_count": null,
   "metadata": {},
   "outputs": [],
   "source": [
    "# plot({'data': [trace0, trace2], 'layout': {'title': 'Sample Title'}})"
   ]
  },
  {
   "cell_type": "markdown",
   "metadata": {},
   "source": [
    "Our `layout` function should return a dictionary, just as it's defined in the above plot.  We'll start by returning an empty dictionary then below we'll walk through building out the rest of the function."
   ]
  },
  {
   "cell_type": "code",
   "execution_count": null,
   "metadata": {},
   "outputs": [],
   "source": [
    "def layout(x_range = None, y_range = None, options = {}):\n",
    "    pass"
   ]
  },
  {
   "cell_type": "code",
   "execution_count": null,
   "metadata": {},
   "outputs": [],
   "source": [
    "layout()\n",
    "# {}"
   ]
  },
  {
   "cell_type": "markdown",
   "metadata": {},
   "source": [
    "#### Setting the xaxis and yaxis range"
   ]
  },
  {
   "cell_type": "markdown",
   "metadata": {},
   "source": [
    "Oftentimes in building a layout, we want an easy way to set the range for the `x` and `y` axis.  To set a range in the x-axis of $1$ through $4$ and a range of the y-axis of $2$ through $5$, we return a layout of the following structure.\n",
    "```python\n",
    "{'xaxis': {'range': [1, 4]}, 'yaxis': {'range': [2, 5]}}\n",
    "```\n",
    "\n",
    "Let's start with adding functionality to the `layout()` function so it can set the range for the x-axis.  (**Hint**: Google search Python's built-in `isinstance()` and `update()` functions.)\n",
    "\n",
    "Add an argument of x_range returns a dictionary with a range set on the xaxis."
   ]
  },
  {
   "cell_type": "code",
   "execution_count": null,
   "metadata": {},
   "outputs": [],
   "source": [
    "layout([1, 4])\n",
    "# {'xaxis': {'range': [1, 4]}}"
   ]
  },
  {
   "cell_type": "markdown",
   "metadata": {},
   "source": [
    "We want to ensure that when an x_range is not provided, an empty dictionary is still returned.  \n",
    "```python\n",
    "layout()\n",
    "# {}\n",
    "\n",
    "```\n",
    "The `x_range` should be a default argument that sets `x_range` to `None`.  Then, only add a key of xaxis to the dictionary layout when the `x_range` does not equal `None`."
   ]
  },
  {
   "cell_type": "code",
   "execution_count": null,
   "metadata": {},
   "outputs": [],
   "source": [
    "layout() # {}"
   ]
  },
  {
   "cell_type": "markdown",
   "metadata": {},
   "source": [
    "Now let's provide the same functionality for the `y_range`.  When the `y_range` is provided we add a key of `yaxis` which points to a dictionary that expresses the y-axis range."
   ]
  },
  {
   "cell_type": "code",
   "execution_count": null,
   "metadata": {
    "scrolled": true
   },
   "outputs": [],
   "source": [
    "layout([1, 3], [4, 5])\n",
    "# {'xaxis': {'range': [1, 3]}, 'yaxis': {'range': [4, 5]}}"
   ]
  },
  {
   "cell_type": "markdown",
   "metadata": {},
   "source": [
    "#### Adding layout options"
   ]
  },
  {
   "cell_type": "markdown",
   "metadata": {},
   "source": [
    "Now have the final argument of our layout function be options.  The `options` argument should by default point to a dictionary.  And whatever is provided as pointing to the options argument should be updated into the returned dictionary.    "
   ]
  },
  {
   "cell_type": "code",
   "execution_count": null,
   "metadata": {
    "scrolled": false
   },
   "outputs": [],
   "source": [
    "layout(options = {'title': 'foo'})"
   ]
  },
  {
   "cell_type": "code",
   "execution_count": null,
   "metadata": {},
   "outputs": [],
   "source": [
    "layout([1, 3], options = {'title': 'chart'})\n",
    "\n",
    "# {'title': 'chart', 'xaxis': {'range': [1, 3]}}"
   ]
  },
  {
   "cell_type": "markdown",
   "metadata": {},
   "source": [
    "Ok, now let's see this `layout` function in action."
   ]
  },
  {
   "cell_type": "code",
   "execution_count": null,
   "metadata": {},
   "outputs": [],
   "source": [
    "another_trace = trace_values([1, 2, 3], [6, 3, 1])\n",
    "another_layout = layout([-1, 4], [0, 7], {'title': 'Going Down...'})\n",
    "# plot({'data': [another_trace], 'layout': another_layout})"
   ]
  },
  {
   "cell_type": "markdown",
   "metadata": {},
   "source": [
    "Finally, we'll modify the `plot` function for you so that it takes the data, and the layout as arguments."
   ]
  },
  {
   "cell_type": "code",
   "execution_count": null,
   "metadata": {},
   "outputs": [],
   "source": [
    "def plot(traces = [], layout = {}):\n",
    "    if not isinstance(traces, list): raise TypeError('first argument must be a list.  Instead is', traces)\n",
    "    if not isinstance(layout, dict): raise TypeError('second argument must be a dict.  Instead is', layout)\n",
    "    plotly.offline.iplot({'data': traces, 'layout': layout})"
   ]
  },
  {
   "cell_type": "markdown",
   "metadata": {},
   "source": [
    "Uncomment the below code to see the updated `plot` function in action.  "
   ]
  },
  {
   "cell_type": "code",
   "execution_count": null,
   "metadata": {},
   "outputs": [],
   "source": [
    "trace4 = trace_values([4, 5, 6], [10, 5, 1], mode = 'lines')\n",
    "last_layout = layout(options = {'title': 'The big picture'})\n",
    "plot([trace4], last_layout)"
   ]
  },
  {
   "cell_type": "markdown",
   "metadata": {
    "collapsed": true
   },
   "source": [
    "### Summary "
   ]
  },
  {
   "cell_type": "markdown",
   "metadata": {},
   "source": [
    "In this lab, we built out some methods so that we can easily create graphs going forward.  We'll make good use of them in the lessons to come, as well as write new methods to help us easily display information in our charts."
   ]
  }
 ],
 "metadata": {
  "kernelspec": {
   "display_name": "Python 3",
   "language": "python",
   "name": "python3"
  },
  "language_info": {
   "codemirror_mode": {
    "name": "ipython",
    "version": 3
   },
   "file_extension": ".py",
   "mimetype": "text/x-python",
   "name": "python",
   "nbconvert_exporter": "python",
   "pygments_lexer": "ipython3",
   "version": "3.6.4"
  }
 },
 "nbformat": 4,
 "nbformat_minor": 2
}
